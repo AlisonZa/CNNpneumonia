{
  "nbformat": 4,
  "nbformat_minor": 0,
  "metadata": {
    "colab": {
      "provenance": [],
      "authorship_tag": "ABX9TyNVtdjV2h1jJCIlPw3xze1W",
      "include_colab_link": true
    },
    "kernelspec": {
      "name": "python3",
      "display_name": "Python 3"
    },
    "language_info": {
      "name": "python"
    }
  },
  "cells": [
    {
      "cell_type": "markdown",
      "metadata": {
        "id": "view-in-github",
        "colab_type": "text"
      },
      "source": [
        "<a href=\"https://colab.research.google.com/github/AlisonZa/CNNpneumonia/blob/main/ImageFolderSplitting.ipynb\" target=\"_parent\"><img src=\"https://colab.research.google.com/assets/colab-badge.svg\" alt=\"Open In Colab\"/></a>"
      ]
    },
    {
      "cell_type": "code",
      "source": [
        "from google.colab import drive\n",
        "!pip install split_folders\n",
        "\n",
        "import splitfolders\n",
        "\n",
        "drive.mount('/content/drive')"
      ],
      "metadata": {
        "colab": {
          "base_uri": "https://localhost:8080/"
        },
        "id": "f8Ex9JQ2mEoq",
        "outputId": "fc9626ef-aa3f-42bf-d245-20bce4244e94"
      },
      "execution_count": null,
      "outputs": [
        {
          "output_type": "stream",
          "name": "stdout",
          "text": [
            "Requirement already satisfied: split_folders in /usr/local/lib/python3.10/dist-packages (0.5.1)\n",
            "Drive already mounted at /content/drive; to attempt to forcibly remount, call drive.mount(\"/content/drive\", force_remount=True).\n"
          ]
        }
      ]
    },
    {
      "cell_type": "code",
      "execution_count": null,
      "metadata": {
        "colab": {
          "base_uri": "https://localhost:8080/"
        },
        "id": "6vr8NEMOl8Kv",
        "outputId": "397559d2-88c9-47d5-ad97-26a52c2a7c5b"
      },
      "outputs": [
        {
          "output_type": "stream",
          "name": "stderr",
          "text": [
            "Copying files: 5856 files [04:02, 24.14 files/s]"
          ]
        },
        {
          "output_type": "stream",
          "name": "stdout",
          "text": [
            "Imagens foram divididas aleatoriamente em 3 pastas.\n"
          ]
        },
        {
          "output_type": "stream",
          "name": "stderr",
          "text": [
            "\n"
          ]
        }
      ],
      "source": [
        "image_path = '/content/drive/MyDrive/data_pneumonia_detection/Novas pastas'\n",
        "\n",
        "outputpath = '/content/drive/MyDrive/data_pneumonia_detection/chest_yray'\n",
        "\n",
        "splitfolders.ratio(image_path, output=outputpath, seed=42, ratio=(.7, .2, .1))\n"
      ]
    }
  ]
}