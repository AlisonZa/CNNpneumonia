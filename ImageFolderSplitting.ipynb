{
  "nbformat": 4,
  "nbformat_minor": 0,
  "metadata": {
    "colab": {
      "provenance": [],
      "authorship_tag": "ABX9TyMKpf8YpHOa41nA4HM+J7uy",
      "include_colab_link": true
    },
    "kernelspec": {
      "name": "python3",
      "display_name": "Python 3"
    },
    "language_info": {
      "name": "python"
    }
  },
  "cells": [
    {
      "cell_type": "markdown",
      "metadata": {
        "id": "view-in-github",
        "colab_type": "text"
      },
      "source": [
        "<a href=\"https://colab.research.google.com/github/AlisonZa/CNNpneumonia/blob/main/ImageFolderSplitting.ipynb\" target=\"_parent\"><img src=\"https://colab.research.google.com/assets/colab-badge.svg\" alt=\"Open In Colab\"/></a>"
      ]
    },
    {
      "cell_type": "code",
      "source": [
        "from google.colab import drive\n",
        "!pip install split_folders\n",
        "\n",
        "import splitfolders\n",
        "\n",
        "drive.mount('/content/drive')"
      ],
      "metadata": {
        "id": "f8Ex9JQ2mEoq"
      },
      "execution_count": null,
      "outputs": []
    },
    {
      "cell_type": "code",
      "execution_count": null,
      "metadata": {
        "id": "6vr8NEMOl8Kv"
      },
      "outputs": [],
      "source": [
        "image_path = '/content/drive/MyDrive/data_pneumonia_detection/Novas pastas'\n",
        "\n",
        "outputpath = '/content/drive/MyDrive/data_pneumonia_detection/chest_xray'\n",
        "\n",
        "splitfolders.ratio(image_path, output=outputpath, seed=42, ratio=(.7, .2, .1))\n"
      ]
    }
  ]
}